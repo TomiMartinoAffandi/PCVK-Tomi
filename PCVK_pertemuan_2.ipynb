{
  "cells": [
    {
      "cell_type": "markdown",
      "metadata": {
        "id": "view-in-github",
        "colab_type": "text"
      },
      "source": [
        "<a href=\"https://colab.research.google.com/github/TomiMartinoAffandi/PCVK-Tomi/blob/main/PCVK_pertemuan_2.ipynb\" target=\"_parent\"><img src=\"https://colab.research.google.com/assets/colab-badge.svg\" alt=\"Open In Colab\"/></a>"
      ]
    },
    {
      "cell_type": "code",
      "execution_count": null,
      "metadata": {
        "id": "ilzkOkb0NyWv"
      },
      "outputs": [],
      "source": [
        "from google.colab import drive\n",
        "drive.mount('/content/drive')"
      ]
    },
    {
      "cell_type": "code",
      "execution_count": null,
      "metadata": {
        "id": "Uk9uLkTxO6uX"
      },
      "outputs": [],
      "source": [
        "from google.colab import files\n",
        "uploaded = files.upload()"
      ]
    },
    {
      "cell_type": "code",
      "execution_count": null,
      "metadata": {
        "id": "8iPr4dXHPOd3"
      },
      "outputs": [],
      "source": [
        "import cv2\n",
        "from google.colab.patches import cv2_imshow\n",
        "\n",
        "img = cv2.imread(\"/content/drive/MyDrive/PCVK/KTM-Tomi.jpg\")\n",
        "cv2_imshow(img)\n",
        "\n",
        "print(\"resolusi gambar: \", img.shape[1], \"X\", img.shape[0])"
      ]
    },
    {
      "cell_type": "code",
      "execution_count": null,
      "metadata": {
        "id": "gXV7jGbhiWxO"
      },
      "outputs": [],
      "source": [
        "import cv2\n",
        "import matplotlib.pyplot as plt\n",
        "from google.colab.patches import cv2_imshow\n",
        "\n",
        "img = cv2.imread(\"/content/drive/MyDrive/PCVK/KTM-Tomi.jpg\")\n",
        "plt.imshow(img)\n"
      ]
    },
    {
      "cell_type": "code",
      "execution_count": null,
      "metadata": {
        "id": "LCgKe6WJjR-d"
      },
      "outputs": [],
      "source": [
        "img = cv2.imread(\"/content/drive/MyDrive/PCVK/KTM-Tomi.jpg\")\n",
        "plt.imshow(cv2.cvtColor(img, cv2.COLOR_BGR2RGB)) #Konversi BGR ke RGB\n",
        "plt.show()"
      ]
    },
    {
      "cell_type": "code",
      "execution_count": null,
      "metadata": {
        "id": "jVoijRpAjkdz"
      },
      "outputs": [],
      "source": [
        "img_gray = cv2.imread(\"/content/drive/MyDrive/PCVK/KTM-Tomi.jpg\", cv2.IMREAD_GRAYSCALE)\n",
        "\n",
        "# Tanpa cmap\n",
        "plt.subplot(1,2,1)\n",
        "plt.imshow(img_gray)\n",
        "plt.title(\"Tanpa cmap\")\n",
        "\n",
        "# Dengan cmap\n",
        "plt.subplot(1,2,2)\n",
        "plt.imshow(img_gray, cmap=\"gray\")\n",
        "plt.title(\"Dengan cmap\")\n",
        "\n",
        "plt.show()"
      ]
    },
    {
      "cell_type": "code",
      "execution_count": null,
      "metadata": {
        "id": "DOpfWXeWjyJj"
      },
      "outputs": [],
      "source": [
        "plt.imshow(img_gray, cmap=\"magma\")"
      ]
    },
    {
      "cell_type": "code",
      "execution_count": null,
      "metadata": {
        "id": "t3ZNy5bikCcD"
      },
      "outputs": [],
      "source": [
        "img = cv2.imread(\"/content/drive/MyDrive/PCVK/KTM-Tomi.jpg\")\n",
        "imgRGB = cv2.cvtColor(img, cv2.COLOR_BGR2RGB) #Konversi BGR ke RGB\n",
        "imgRGBsmall = cv2.resize(imgRGB, (400,250))\n",
        "plt.imshow(imgRGBsmall)"
      ]
    },
    {
      "cell_type": "code",
      "execution_count": null,
      "metadata": {
        "id": "HqA3OE1WkuvL"
      },
      "outputs": [],
      "source": [
        "imgBalik = cv2.flip(imgRGBsmall, 1)\n",
        "plt.imshow(imgBalik)"
      ]
    },
    {
      "cell_type": "code",
      "execution_count": null,
      "metadata": {
        "id": "gGtzfiKzlAiL"
      },
      "outputs": [],
      "source": [
        "imgBalik = cv2.flip(imgRGBsmall, 1)\n",
        "\n",
        "#tampilkan ukuran canvas yang lebih besar\n",
        "fig = plt.figure(figsize=(10,10))\n",
        "ax = fig.add_subplot(111)\n",
        "ax.imshow(imgBalik)"
      ]
    },
    {
      "cell_type": "code",
      "execution_count": null,
      "metadata": {
        "id": "5jpZW-uPmDMq"
      },
      "outputs": [],
      "source": [
        "import numpy as np\n",
        "\n",
        "black_img = np.zeros(shape=(512,512,3), dtype=np.int16)\n",
        "plt.imshow(black_img)"
      ]
    },
    {
      "cell_type": "code",
      "execution_count": null,
      "metadata": {
        "id": "WNl89xBonvZC"
      },
      "outputs": [],
      "source": [
        "#perhatikan koordinat titik2 pt1 dan pt2\n",
        "cv2.rectangle(black_img,pt1=(384,0),pt2=(510,150),color=(0,255,0),thickness=10)\n",
        "plt.imshow(black_img)\n"
      ]
    },
    {
      "cell_type": "code",
      "execution_count": null,
      "metadata": {
        "id": "PiGO1ZQyoFRJ"
      },
      "outputs": [],
      "source": [
        "cv2.rectangle(black_img,pt1=(200,200),pt2=(300,300),color=(0,0,255),thickness=15)\n",
        "plt.imshow(black_img)"
      ]
    },
    {
      "cell_type": "code",
      "execution_count": null,
      "metadata": {
        "id": "vAx-ktdyoIkx"
      },
      "outputs": [],
      "source": [
        "cv2.circle(black_img,center=(100,100),radius=50,color=(255,0,0),thickness=8)\n",
        "plt.imshow(black_img)"
      ]
    },
    {
      "cell_type": "code",
      "execution_count": null,
      "metadata": {
        "id": "N6L1k9kQoMER"
      },
      "outputs": [],
      "source": [
        "cv2.circle(black_img, center=(400,400), radius=50, color=(255,0,0), thickness=-1)\n",
        "cv2.line(black_img,pt1=(0,0),pt2=(512,512),color=(255,255,255),thickness=5)\n",
        "plt.imshow(black_img)"
      ]
    },
    {
      "cell_type": "code",
      "execution_count": null,
      "metadata": {
        "id": "XILKUPQDqKJI"
      },
      "outputs": [],
      "source": [
        "font = cv2.FONT_HERSHEY_SIMPLEX\n",
        "cv2.putText(black_img,text='Hello',org=(10,500),fontFace=font,fontScale=4,color=(255,255,0),thickness=2,lineType=cv2.LINE_AA)\n",
        "plt.imshow(black_img)\n"
      ]
    },
    {
      "cell_type": "code",
      "execution_count": null,
      "metadata": {
        "id": "xdVwvi_hqgxY"
      },
      "outputs": [],
      "source": [
        "black_img2=np.zeros(shape=(512,512,3),dtype=np.int32)\n",
        "plt.imshow(black_img2)\n"
      ]
    },
    {
      "cell_type": "code",
      "execution_count": null,
      "metadata": {
        "id": "Qi-d7F1nqrSI"
      },
      "outputs": [],
      "source": [
        "vertices = np.array([[100,300],[200,200],[400,300],[200,400]],dtype=np.int32)\n",
        "vertices\n"
      ]
    },
    {
      "cell_type": "code",
      "execution_count": null,
      "metadata": {
        "id": "WNRpo_41qsh_"
      },
      "outputs": [],
      "source": [
        "pts = vertices.reshape((-1,1,2))  # nilai 2 untuk menunjukkan bahwa tiap titik dibuat 3 channel yg mewakili R, G, dan B\n",
        "pts\n"
      ]
    },
    {
      "cell_type": "code",
      "execution_count": null,
      "metadata": {
        "id": "ELXNROOuqvx_"
      },
      "outputs": [],
      "source": [
        "cv2.polylines(black_img2,[pts],isClosed=True,color=(255,0,0),thickness=5)\n",
        "plt.imshow(black_img2)\n"
      ]
    },
    {
      "cell_type": "markdown",
      "metadata": {
        "id": "zDPN4oWVtGQe"
      },
      "source": [
        "Pertanyaan praktikum\n",
        "1. Apakah perbedaan gambar yang ditampilkan tanpa dan dengan matplotlib?\n",
        "\n",
        "Tanpa matplotlib (misalnya pakai cv2.imshow):\n",
        "\n",
        "Jendela gambar terbuka di luar notebook (GUI window).\n",
        "\n",
        "Warna bisa terlihat terbalik karena OpenCV menggunakan format BGR, bukan RGB.\n",
        "\n",
        "Butuh tombol keyboard untuk menutup jendela (cv2.waitKey()).\n",
        "\n",
        "Dengan matplotlib (pakai plt.imshow):\n",
        "\n",
        "Gambar tampil langsung di dalam notebook / inline (lebih praktis di Google Colab/Jupyter).\n",
        "\n",
        "Format warna default RGB, sehingga hasil warna lebih sesuai dengan tampilan asli.\n",
        "\n",
        "Bisa diberi judul, axis, atau dimodifikasi dengan mudah.\n",
        "\n",
        "2. Apakah perbedaan dan pengaruhnya pembuatan black image antara tipe data int16 dan int32?\n",
        "\n",
        "int16: rentang nilai pixel = -32,768 s/d 32,767\n",
        "\n",
        "int32: rentang nilai pixel = -2,147,483,648 s/d 2,147,483,647\n",
        "\n",
        "Untuk citra digital (biasanya 0–255 pada uint8), penggunaan int16 atau int32 tidak memberi manfaat berarti, malah:\n",
        "\n",
        "Membutuhkan memori lebih besar.\n",
        "\n",
        "Bisa menimbulkan hasil tidak sesuai (misalnya overflow atau nilai negatif).\n",
        "\n",
        "Jadi perbedaannya lebih ke ukuran memori dan potensi error, bukan tampilan gambar.\n",
        "\n",
        "3. Apakah kegunaan from google.colab.patches import cv2_imshow pada potongan kode?\n",
        "\n",
        "Di Google Colab, fungsi cv2.imshow() bawaan OpenCV tidak bisa dipakai karena Colab tidak mendukung GUI window.\n",
        "\n",
        "Maka, digunakan cv2_imshow dari google.colab.patches untuk menampilkan gambar langsung di output cell Colab.\n",
        "\n",
        "4. Apakah kegunaan from skimage import io pada potongan kode nomor 3?\n",
        "\n",
        "Modul skimage.io digunakan untuk membaca dan menampilkan gambar.\n",
        "\n",
        "Fungsinya mirip dengan cv2.imread + cv2.imshow, tapi:\n",
        "\n",
        "Lebih fleksibel membaca berbagai format gambar (JPEG, PNG, TIFF, dsb.).\n",
        "\n",
        "Bisa menampilkan gambar langsung di notebook.\n",
        "\n",
        "Jadi di kode tersebut, io bisa dipakai untuk load image dan menampilkannya dengan cara yang lebih kompatibel di notebook.\n"
      ]
    },
    {
      "cell_type": "markdown",
      "metadata": {
        "id": "gMYwjpLntfWG"
      },
      "source": [
        "TUGAS PRAKTIKUM\n"
      ]
    },
    {
      "cell_type": "markdown",
      "metadata": {
        "id": "poXaWfiRxZjM"
      },
      "source": [
        "1. Dengan menggunakan figsize, perhatikan apakah ukuran image pixelnya\n",
        "juga berubah?"
      ]
    },
    {
      "cell_type": "code",
      "execution_count": null,
      "metadata": {
        "id": "7RCcBwhstjfu"
      },
      "outputs": [],
      "source": [
        "img = cv2.imread(\"/content/drive/MyDrive/PCVK/KTM-Tomi.jpg\")\n",
        "plt.figure(figsize=(12,6))\n",
        "plt.imshow(cv2.cvtColor(img, cv2.COLOR_BGR2RGB))\n",
        "plt.show()\n"
      ]
    },
    {
      "cell_type": "markdown",
      "metadata": {
        "id": "i4DgHFtEumnN"
      },
      "source": [
        "tidak, figsize hanya mengubah ukuran tampilan gambar di plot, bukan jumlah pixel gambar"
      ]
    },
    {
      "cell_type": "markdown",
      "metadata": {
        "id": "qwbmaoNCxdxr"
      },
      "source": [
        "2. Tampilkan image dalam channel Red-Blue dan Green-Blue saja!"
      ]
    },
    {
      "cell_type": "code",
      "execution_count": null,
      "metadata": {
        "id": "2O8jBDd7utOG"
      },
      "outputs": [],
      "source": [
        "# Pisahkan channel\n",
        "B, G, R = cv2.split(img)\n",
        "\n",
        "# Red-Blue\n",
        "RB = cv2.merge([B, np.zeros_like(G), R])\n",
        "\n",
        "# Green-Blue\n",
        "GB = cv2.merge([B, G, np.zeros_like(R)])\n",
        "\n",
        "RB_resized = cv2.resize(RB, (2000, 1100))\n",
        "GB_resized = cv2.resize(GB, (2000, 1100))\n",
        "\n",
        "# Gabungkan secara horizontal\n",
        "combined = cv2.hconcat([RB_resized, GB_resized])\n",
        "\n",
        "# Tampilkan hasil\n",
        "cv2_imshow(combined)\n"
      ]
    },
    {
      "cell_type": "markdown",
      "metadata": {
        "id": "E-k-J_38xl8M"
      },
      "source": [
        "3. Tampilkan image baris ke 20-115, kolom 25-120!"
      ]
    },
    {
      "cell_type": "code",
      "execution_count": null,
      "metadata": {
        "id": "-TD64u-Jw3J0"
      },
      "outputs": [],
      "source": [
        "crop1 = img[20:115, 25:120]\n",
        "cv2_imshow(crop1)\n"
      ]
    },
    {
      "cell_type": "markdown",
      "metadata": {
        "id": "Qh-OmHTVxqGt"
      },
      "source": [
        "4. Tampilkan image baris ke 5-30, semua kolom, channel Red saja!"
      ]
    },
    {
      "cell_type": "code",
      "execution_count": null,
      "metadata": {
        "id": "3p-LTwIlxEpc"
      },
      "outputs": [],
      "source": [
        "red_channel = img[5:30, :, 2]   # channel R = index 2\n",
        "cv2_imshow(red_channel)\n"
      ]
    },
    {
      "cell_type": "markdown",
      "metadata": {
        "id": "XrUdG7RNxtdi"
      },
      "source": [
        "5. Buat 5 kotak berbagai ukuran dan warna yang berbeda dalam satu image.\n",
        "disarankan menggunakan bilangan acak/random!"
      ]
    },
    {
      "cell_type": "code",
      "execution_count": null,
      "metadata": {
        "collapsed": true,
        "id": "-x2LAo2dxLpG"
      },
      "outputs": [],
      "source": [
        "import random\n",
        "\n",
        "img_boxes = img.copy()\n",
        "for _ in range(5):\n",
        "    x1, y1 = random.randint(0, img.shape[1]-50), random.randint(0, img.shape[0]-50)\n",
        "    x2, y2 = x1+random.randint(20,100), y1+random.randint(20,100)\n",
        "    color = (random.randint(0,255), random.randint(0,255), random.randint(0,255))\n",
        "    cv2.rectangle(img_boxes, (x1,y1), (x2,y2), color, -1)\n",
        "\n",
        "cv2_imshow(img_boxes)\n"
      ]
    },
    {
      "cell_type": "markdown",
      "metadata": {
        "id": "txZOIZs3x29E"
      },
      "source": [
        "6. Tampilkan image dengan posisi terbalik!"
      ]
    },
    {
      "cell_type": "code",
      "execution_count": null,
      "metadata": {
        "id": "zcezrOV6x8z0"
      },
      "outputs": [],
      "source": [
        "flipped = cv2.flip(img, 0)\n",
        "cv2_imshow(flipped)\n"
      ]
    },
    {
      "cell_type": "markdown",
      "metadata": {
        "id": "KUrLRIm6yBX0"
      },
      "source": [
        "7. Buat rectangle dan circle pada bagian wajah dari image foto s anda saat\n",
        "beraktifitas (bukan pasfoto)."
      ]
    },
    {
      "cell_type": "code",
      "execution_count": null,
      "metadata": {
        "id": "GuBK2_MDyTTt"
      },
      "outputs": [],
      "source": [
        "img = cv2.imread(\"/content/drive/MyDrive/PCVK/random_image.jpeg\")\n",
        "print(\"resolusi gambar: \", img.shape[1], \"X\", img.shape[0])\n",
        "\n",
        "# Rectangle (area wajah)\n",
        "cv2.rectangle(img, (50, 25), (130, 105), (0, 255, 0), 2)\n",
        "\n",
        "# Circle (tengah wajah)\n",
        "cv2.circle(img, (90, 65), 40, (255, 0, 0), 2)\n",
        "\n",
        "cv2_imshow(img)"
      ]
    },
    {
      "cell_type": "markdown",
      "metadata": {
        "id": "Cj_wj4lL1Qkp"
      },
      "source": [
        "8. Buat rectangle pada bagian sudut bawah kiri channel B pada color space\n",
        "RGB dari citra kitten/ lena/ mandrill/ male/ female/ couple/ sailboat/\n",
        "peppers!"
      ]
    },
    {
      "cell_type": "code",
      "execution_count": null,
      "metadata": {
        "id": "0w__4v8z1UzS"
      },
      "outputs": [],
      "source": [
        "img = cv2.imread(\"/content/drive/MyDrive/PCVK/baboon24.jpg\")\n",
        "print(\"resolusi gambar: \", img.shape[1], \"X\", img.shape[0])\n",
        "\n",
        "h, w, _ = img.shape\n",
        "\n",
        "pt1 = (0, h-100)\n",
        "pt2 = (100, h)\n",
        "cv2.rectangle(img, pt1, pt2, (0, 255, 0), -1)\n",
        "\n",
        "cv2_imshow(img)\n"
      ]
    },
    {
      "cell_type": "markdown",
      "metadata": {
        "id": "IRwj6KY25TvJ"
      },
      "source": [
        "9. Lengkapi tulisan nama file pada file citra dari soal no.8. gunakan font,\n",
        "ukuran font, dan warna font yang sesuai keinginan anda."
      ]
    },
    {
      "cell_type": "code",
      "execution_count": null,
      "metadata": {
        "id": "vH4ZXoVa5Wiv"
      },
      "outputs": [],
      "source": [
        "cv2.putText(img, \"mandrill\", (10, h-30), cv2.FONT_HERSHEY_SIMPLEX,\n",
        "            0.7, (0, 0, 0), 2)  # warna hitam\n",
        "\n",
        "cv2_imshow(img)"
      ]
    },
    {
      "cell_type": "markdown",
      "metadata": {
        "id": "FUw3F-p18L5_"
      },
      "source": [
        "TUGAS KELOMPOK PERTEMUAN 2\n"
      ]
    },
    {
      "cell_type": "code",
      "execution_count": null,
      "metadata": {
        "id": "Lxz_Dv338Q0O"
      },
      "outputs": [],
      "source": [
        "img = cv2.imread(\"/content/drive/MyDrive/PCVK/KTM-Tomi.jpg\")\n",
        "imgRGB = cv2.cvtColor(img, cv2.COLOR_BGR2RGB) #Konversi BGR ke RGB\n",
        "imgRGBsmall = cv2.resize(imgRGB, (400,250))\n",
        "\n",
        "cv2.circle(imgRGBsmall, center=(50, 180), radius=20, color=(255,0,0), thickness=-1)\n",
        "cv2.rectangle(imgRGBsmall,pt1=(90,215),pt2=(160,225),color=(0,0,255),thickness=-1)\n",
        "cv2.rectangle(imgRGBsmall,pt1=(205,150),pt2=(255,175),color=(0,255,0),thickness=-1)\n",
        "\n",
        "\n",
        "plt.imshow(imgRGBsmall)\n",
        "\n",
        "\n"
      ]
    }
  ],
  "metadata": {
    "colab": {
      "provenance": [],
      "mount_file_id": "12h8Cw-LlV6pDdbGnSEhfz--l65AcS7I2",
      "authorship_tag": "ABX9TyOY+cJ5K2+V7QNqJVP4YinY",
      "include_colab_link": true
    },
    "kernelspec": {
      "display_name": "Python 3",
      "name": "python3"
    },
    "language_info": {
      "name": "python"
    }
  },
  "nbformat": 4,
  "nbformat_minor": 0
}